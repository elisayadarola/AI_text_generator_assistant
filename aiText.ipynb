{
 "cells": [
  {
   "cell_type": "code",
   "execution_count": 4,
   "metadata": {},
   "outputs": [
    {
     "name": "stderr",
     "output_type": "stream",
     "text": [
      "Setting `pad_token_id` to `eos_token_id`:50256 for open-end generation.\n"
     ]
    }
   ],
   "source": [
    "\n",
    "# import ipykernel\n",
    "# ipykernel.__version__\n",
    "from transformers import pipeline\n",
    "# gen = pipeline('text-generation', model ='EleutherAI/gpt-neo-2.7B')\n",
    "gen = pipeline('text-generation', model ='EleutherAI/gpt-neo-125M')\n",
    "context = \"Deep Learning is a sub-field of Artificial Intelligence.\"\n",
    "output = gen(context, max_length=250, do_sample=True, temperature=0.9)\n",
    "with open('dl.txt', 'w') as f:\n",
    "       f.write(str(output))"
   ]
  }
 ],
 "metadata": {
  "kernelspec": {
   "display_name": "Python 3.8.2 64-bit",
   "language": "python",
   "name": "python3"
  },
  "language_info": {
   "codemirror_mode": {
    "name": "ipython",
    "version": 3
   },
   "file_extension": ".py",
   "mimetype": "text/x-python",
   "name": "python",
   "nbconvert_exporter": "python",
   "pygments_lexer": "ipython3",
   "version": "3.8.2"
  },
  "orig_nbformat": 4,
  "vscode": {
   "interpreter": {
    "hash": "31f2aee4e71d21fbe5cf8b01ff0e069b9275f58929596ceb00d14d90e3e16cd6"
   }
  }
 },
 "nbformat": 4,
 "nbformat_minor": 2
}
